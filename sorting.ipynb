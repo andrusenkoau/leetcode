{
 "cells": [
  {
   "cell_type": "code",
   "execution_count": 1,
   "metadata": {},
   "outputs": [],
   "source": [
    "def quicksort(arr):\n",
    "    if len(arr) <= 1:\n",
    "        return arr\n",
    "    pevot = arr[len(arr)//2]\n",
    "    left = [x for x in arr if x < pevot]\n",
    "    right = [x for x in arr if x > pevot]\n",
    "    middle = [x for x in arr if x == pevot]\n",
    "    \n",
    "    return quicksort(left) + middle + quicksort(right)"
   ]
  },
  {
   "cell_type": "code",
   "execution_count": 2,
   "metadata": {},
   "outputs": [
    {
     "name": "stdout",
     "output_type": "stream",
     "text": [
      "[1, 1, 2, 3, 6, 8, 10]\n"
     ]
    }
   ],
   "source": [
    "print(quicksort([3,6,8,10,1,2,1]))"
   ]
  },
  {
   "cell_type": "code",
   "execution_count": 13,
   "metadata": {},
   "outputs": [
    {
     "name": "stdout",
     "output_type": "stream",
     "text": [
      "[1, 1, 2, 3, 6, 8, 10]\n"
     ]
    }
   ],
   "source": [
    "# inplace\n",
    "def partial(arr, low, high):\n",
    "    \n",
    "    pivot  = arr[high]\n",
    "    i = low-1\n",
    "    for j in range(low, high):\n",
    "        if arr[j] <= pivot:\n",
    "            i += 1\n",
    "            arr[i], arr[j] = arr[j], arr[i]\n",
    "    arr[i+1], arr[high] = arr[high], arr[i+1]\n",
    "    return i+1\n",
    "            \n",
    "            \n",
    "    \n",
    "\n",
    "def quicksort_inplace(arr, low, high):\n",
    "    if low < high:\n",
    "        pi = partial(arr, low, high)\n",
    "        quicksort_inplace(arr, low, pi-1)\n",
    "        quicksort_inplace(arr, pi+1, high)\n",
    "\n",
    "\n",
    "x = [3,6,8,10,1,2,1]\n",
    "quicksort_inplace(x, 0, len(x)-1)\n",
    "print(x)"
   ]
  },
  {
   "cell_type": "code",
   "execution_count": 24,
   "metadata": {},
   "outputs": [
    {
     "name": "stdout",
     "output_type": "stream",
     "text": [
      "[1, 1, 2, 3, 6, 8, 10]\n"
     ]
    }
   ],
   "source": [
    "# merge sort\n",
    "def merge_two_list(a, b):\n",
    "    \n",
    "    i = j = 0\n",
    "    l = []\n",
    "    while i <= len(a)-1 and j <= len(b)-1:\n",
    "        if a[i] <= b[j]:\n",
    "            l.append(a[i])\n",
    "            i += 1\n",
    "        elif a[i] > b[j]:\n",
    "            l.append(b[j])\n",
    "            j += 1\n",
    "    if i < len(a):\n",
    "        for x in a[i:]:\n",
    "            l.append(x)\n",
    "    if j < len(b):\n",
    "        for x in b[j:]:\n",
    "            l.append(x)     \n",
    "    return l\n",
    "\n",
    "\n",
    "def merge_sum(arr):\n",
    "    if len(arr) == 1:\n",
    "        return arr\n",
    "    \n",
    "    middle = len(arr)//2\n",
    "    left = merge_sum(arr[:middle])\n",
    "    right = merge_sum(arr[middle:])\n",
    "    return merge_two_list(left, right)\n",
    "\n",
    "\n",
    "print(merge_sum([3,6,8,10,1,2,1]))"
   ]
  },
  {
   "cell_type": "code",
   "execution_count": 38,
   "metadata": {},
   "outputs": [
    {
     "name": "stdout",
     "output_type": "stream",
     "text": [
      "1\n",
      "1\n"
     ]
    }
   ],
   "source": [
    "# binary search\n",
    "def binary_search(arr, x):\n",
    "    \n",
    "    l = 0\n",
    "    r = len(arr)-1\n",
    "    ans = None\n",
    "    while l <= r:\n",
    "        m = (r+l)//2\n",
    "        if arr[m] == x:\n",
    "            return m\n",
    "        elif x < arr[m]:\n",
    "            r = m-1\n",
    "        else:\n",
    "            l = m+1\n",
    "    return ans\n",
    "        \n",
    "print(binary_search([1, 1, 2, 3, 6, 8, 10], 1))\n",
    "print(binary_search([1,11], 11))"
   ]
  },
  {
   "cell_type": "code",
   "execution_count": 1,
   "metadata": {},
   "outputs": [],
   "source": [
    "def isPalindrome(x):\n",
    "    \"\"\"\n",
    "    :type x: int\n",
    "    :rtype: bool\n",
    "    \"\"\"\n",
    "    if x < 0:\n",
    "        return False\n",
    "    \n",
    "    if x // 10 < 10:\n",
    "        return True\n",
    "\n",
    "    rev = 0\n",
    "    while (x != 0):\n",
    "        rev = rev*10 + x%10\n",
    "        x = x//10\n",
    "        if rev == 0:\n",
    "            return False\n",
    "        if rev == x or rev == x//10:\n",
    "            return True\n",
    "    return False"
   ]
  },
  {
   "cell_type": "code",
   "execution_count": 8,
   "metadata": {},
   "outputs": [
    {
     "name": "stdout",
     "output_type": "stream",
     "text": [
      "False\n",
      "True\n",
      "True\n"
     ]
    }
   ],
   "source": [
    "print(isPalindrome(1210))\n",
    "print(isPalindrome(121))\n",
    "print(isPalindrome(11))"
   ]
  },
  {
   "cell_type": "code",
   "execution_count": 5,
   "metadata": {},
   "outputs": [
    {
     "data": {
      "text/plain": [
       "12"
      ]
     },
     "execution_count": 5,
     "metadata": {},
     "output_type": "execute_result"
    }
   ],
   "source": [
    "121//10"
   ]
  },
  {
   "cell_type": "markdown",
   "metadata": {},
   "source": [
    "## Roman to Integer"
   ]
  },
  {
   "cell_type": "code",
   "execution_count": 17,
   "metadata": {},
   "outputs": [],
   "source": [
    "def romanToInt(s):\n",
    "    \"\"\"\n",
    "    :type s: str\n",
    "    :rtype: int\n",
    "    \"\"\"\n",
    "    mapp = {'I': 1, 'V': 5, 'X': 10, 'L': 50, 'C': 100, 'D': 500, 'M': 1000}\n",
    "    \n",
    "    ans = 0\n",
    "    prev = 0\n",
    "    for i in range(len(s)):\n",
    "        if mapp[s[-i-1]] >= prev or ans == 0:\n",
    "            ans += mapp[s[-i-1]]\n",
    "            prev = mapp[s[-i-1]]\n",
    "        else:\n",
    "            ans -= mapp[s[-i-1]]\n",
    "    \n",
    "        \n",
    "    return ans"
   ]
  },
  {
   "cell_type": "code",
   "execution_count": 18,
   "metadata": {},
   "outputs": [
    {
     "name": "stdout",
     "output_type": "stream",
     "text": [
      "3\n",
      "9\n",
      "1994\n",
      "1884\n"
     ]
    }
   ],
   "source": [
    "print(romanToInt('III'))\n",
    "print(romanToInt('IX'))\n",
    "print(romanToInt('MCMXCIV'))\n",
    "print(romanToInt('MDCCCLXXXIV'))"
   ]
  },
  {
   "cell_type": "code",
   "execution_count": null,
   "metadata": {},
   "outputs": [],
   "source": []
  },
  {
   "cell_type": "markdown",
   "metadata": {},
   "source": [
    "## Longest Common Prefix"
   ]
  },
  {
   "cell_type": "code",
   "execution_count": 19,
   "metadata": {},
   "outputs": [],
   "source": [
    "def longestCommonPrefix(strs):\n",
    "    \"\"\"\n",
    "    :type strs: List[str]\n",
    "    :rtype: str\n",
    "    \"\"\"\n",
    "    \n",
    "    min_len = min([len(x) for x in strs])\n",
    "    step = 0\n",
    "    while step < min_len:\n",
    "        char = strs[0][step]\n",
    "        for x in strs:\n",
    "            if x[step] != char:\n",
    "                return strs[0][:step]\n",
    "        step += 1                \n",
    "    \n",
    "    return strs[0][:step]"
   ]
  },
  {
   "cell_type": "code",
   "execution_count": 20,
   "metadata": {},
   "outputs": [
    {
     "name": "stdout",
     "output_type": "stream",
     "text": [
      "fl\n",
      "\n"
     ]
    }
   ],
   "source": [
    "print(longestCommonPrefix([\"flower\",\"flow\",\"flight\"]))\n",
    "print(longestCommonPrefix([\"dog\",\"racecar\",\"car\"]))"
   ]
  },
  {
   "cell_type": "markdown",
   "metadata": {},
   "source": [
    "## Valid Parentheses"
   ]
  },
  {
   "cell_type": "code",
   "execution_count": 28,
   "metadata": {},
   "outputs": [],
   "source": [
    "def isValid(s):\n",
    "    \"\"\"\n",
    "    :type s: str\n",
    "    :rtype: bool\n",
    "    \"\"\"\n",
    "    \n",
    "    valid_start = '([{'\n",
    "    mapp = {'(': ')', '[': ']', '{': '}'}\n",
    "    \n",
    "    stack = []\n",
    "    for x in s:\n",
    "        if not stack and x not in valid_start:\n",
    "            return False\n",
    "        if x in valid_start:\n",
    "            stack.append(x)\n",
    "        elif stack and x is mapp[stack[-1]]:\n",
    "            temp = stack.pop()\n",
    "        else:\n",
    "            return False\n",
    "            \n",
    "    return stack == []"
   ]
  },
  {
   "cell_type": "code",
   "execution_count": 29,
   "metadata": {},
   "outputs": [
    {
     "name": "stdout",
     "output_type": "stream",
     "text": [
      "True\n",
      "False\n",
      "True\n",
      "False\n"
     ]
    }
   ],
   "source": [
    "print(isValid(\"()\"))\n",
    "print(isValid('(}'))\n",
    "print(isValid('{[]}'))\n",
    "print(isValid('{{'))"
   ]
  },
  {
   "cell_type": "markdown",
   "metadata": {},
   "source": [
    "## Remove Duplicates from Sorted Array"
   ]
  },
  {
   "cell_type": "code",
   "execution_count": 21,
   "metadata": {},
   "outputs": [],
   "source": [
    "from typing import List\n",
    "def removeDuplicates(nums: List[int]) -> int:\n",
    "    \n",
    "    if len(nums) == 0:\n",
    "        return 0\n",
    "    i = j = 0\n",
    "    while j < len(nums):\n",
    "        if nums[i] == nums[j]:\n",
    "            j += 1\n",
    "        else:\n",
    "            i += 1\n",
    "            nums[i] = nums[j]\n",
    "        \n",
    "    return i+1"
   ]
  },
  {
   "cell_type": "code",
   "execution_count": 22,
   "metadata": {},
   "outputs": [
    {
     "name": "stdout",
     "output_type": "stream",
     "text": [
      "1\n",
      "3\n",
      "3\n",
      "5\n"
     ]
    }
   ],
   "source": [
    "print(removeDuplicates([1]))\n",
    "print(removeDuplicates([1,1,2,2,3,3]))\n",
    "print(removeDuplicates([1,1,2,2,5,5]))\n",
    "print(removeDuplicates([0,0,1,1,1,2,2,3,3,4]))"
   ]
  },
  {
   "cell_type": "markdown",
   "metadata": {},
   "source": [
    "## Maximum Subarray"
   ]
  },
  {
   "cell_type": "code",
   "execution_count": 25,
   "metadata": {},
   "outputs": [],
   "source": [
    "from typing import List\n",
    "\n",
    "def maxSubArray(nums: List[int]) -> int:\n",
    "    \n",
    "    dp = [0] * len(nums)\n",
    "    dp[0] = nums[0]\n",
    "    for i in range(1, len(nums)):\n",
    "        dp[i] = max(nums[i] + dp[i-1], nums[i])\n",
    "    \n",
    "    #print(dp)\n",
    "    return max(dp)\n",
    "    \n",
    "\n",
    "#     cs = 0\n",
    "#     ms = nums[0]\n",
    "#     for n in nums:\n",
    "#         if cs < 0:\n",
    "#             cs = 0\n",
    "#         cs += n\n",
    "#         ms = max(cs, ms)\n",
    "        \n",
    "#     return ms\n",
    "    "
   ]
  },
  {
   "cell_type": "code",
   "execution_count": 26,
   "metadata": {},
   "outputs": [
    {
     "name": "stdout",
     "output_type": "stream",
     "text": [
      "6\n",
      "23\n",
      "1\n",
      "14\n",
      "-1\n"
     ]
    }
   ],
   "source": [
    "print(maxSubArray([-2,1,-3,4,-1,2,1,-5,4]))\n",
    "print(maxSubArray([5,4,-1,7,8]))\n",
    "print(maxSubArray([1]))\n",
    "print(maxSubArray([8,-1,-2,9]))\n",
    "print(maxSubArray([-1,-2]))"
   ]
  },
  {
   "cell_type": "markdown",
   "metadata": {},
   "source": [
    "## Plus One"
   ]
  },
  {
   "cell_type": "code",
   "execution_count": 27,
   "metadata": {},
   "outputs": [],
   "source": [
    "from typing import List\n",
    "\n",
    "def plusOne(digits: List[int]) -> List[int]:\n",
    "    \n",
    "#     for i in range(1, len(digits)+1):\n",
    "#         if digits[-i] < 9:\n",
    "#             digits[-i] += 1\n",
    "#             return digits\n",
    "#         else:\n",
    "#             digits[-i] = 0\n",
    "#     digits.insert(0, 1)\n",
    "        \n",
    "#     return digits\n",
    "\n",
    "    do_plus = True\n",
    "    i = -1\n",
    "    while do_plus and abs(i) <= len(digits):\n",
    "        if digits[i] < 9:\n",
    "            digits[i] = digits[i] + 1\n",
    "            do_plus = False\n",
    "        else:\n",
    "            digits[i] = 0\n",
    "            i -= 1\n",
    "\n",
    "    if abs(i) > len(digits):\n",
    "        digits = [1] + digits\n",
    "\n",
    "    return digits"
   ]
  },
  {
   "cell_type": "code",
   "execution_count": 28,
   "metadata": {},
   "outputs": [
    {
     "name": "stdout",
     "output_type": "stream",
     "text": [
      "[4, 3, 2, 2]\n",
      "[4, 3, 3, 0]\n",
      "[4, 4, 0, 0]\n",
      "[5, 0, 0, 0]\n",
      "[1, 0, 0, 0, 0]\n"
     ]
    }
   ],
   "source": [
    "print(plusOne([4,3,2,1]))\n",
    "print(plusOne([4,3,2,9]))\n",
    "print(plusOne([4,3,9,9]))\n",
    "print(plusOne([4,9,9,9]))\n",
    "print(plusOne([9,9,9,9]))"
   ]
  },
  {
   "cell_type": "markdown",
   "metadata": {},
   "source": [
    "## Sqrt(x)"
   ]
  },
  {
   "cell_type": "code",
   "execution_count": 29,
   "metadata": {},
   "outputs": [],
   "source": [
    "def mySqrt(x):\n",
    "\n",
    "    if x == 1:\n",
    "        return 1\n",
    "    left = 0\n",
    "    right = x\n",
    "    while right - left > 1:\n",
    "        mid = (left + right) // 2\n",
    "        sq = mid*mid\n",
    "        if sq == x:\n",
    "            return mid\n",
    "        if sq > x:\n",
    "            right = mid\n",
    "        else:\n",
    "            left = mid\n",
    "    return (left + right) // 2\n"
   ]
  },
  {
   "cell_type": "code",
   "execution_count": 30,
   "metadata": {},
   "outputs": [
    {
     "name": "stdout",
     "output_type": "stream",
     "text": [
      "2\n",
      "2\n",
      "2\n",
      "3\n",
      "1\n"
     ]
    }
   ],
   "source": [
    "print(mySqrt(4))\n",
    "print(mySqrt(8))\n",
    "print(mySqrt(6))\n",
    "print(mySqrt(9))\n",
    "print(mySqrt(1))"
   ]
  },
  {
   "cell_type": "markdown",
   "metadata": {},
   "source": [
    "## Reverse String"
   ]
  },
  {
   "cell_type": "code",
   "execution_count": 31,
   "metadata": {},
   "outputs": [],
   "source": [
    "def reverseString(s):\n",
    "    \"\"\"\n",
    "    Do not return anything, modify s in-place instead.\n",
    "    \"\"\"\n",
    "    ml = len(s)//2\n",
    "    for i in range(ml):\n",
    "        temp = s[i]\n",
    "        s[i] = s[-i-1]\n",
    "        s[-i-1] = temp\n",
    "    \n",
    "    \n",
    "    return s\n",
    "    "
   ]
  },
  {
   "cell_type": "code",
   "execution_count": 32,
   "metadata": {},
   "outputs": [
    {
     "name": "stdout",
     "output_type": "stream",
     "text": [
      "['o', 'l', 'l', 'e', 'h']\n",
      "['o', 'l', 'P', 'l', 'e', 'h']\n",
      "['h', 'a', 'n', 'c', 'a', 'H']\n"
     ]
    }
   ],
   "source": [
    "print(reverseString([\"h\",\"e\",\"l\",\"l\",\"o\"]))\n",
    "print(reverseString([\"h\",\"e\",\"l\", \"P\", \"l\",\"o\"]))\n",
    "print(reverseString([\"H\",\"a\",\"c\",\"n\",\"a\",\"h\"]))"
   ]
  },
  {
   "cell_type": "markdown",
   "metadata": {},
   "source": [
    "## Single Number"
   ]
  },
  {
   "cell_type": "code",
   "execution_count": 22,
   "metadata": {},
   "outputs": [],
   "source": [
    "def singleNumber(nums):\n",
    "    int_nums = {}\n",
    "    for x in nums:\n",
    "        if int_nums.get(x):\n",
    "            _ = int_nums.pop(x)\n",
    "        else:\n",
    "            int_nums[x] = 1\n",
    "    return next(iter(int_nums.keys()))"
   ]
  },
  {
   "cell_type": "code",
   "execution_count": 32,
   "metadata": {},
   "outputs": [],
   "source": [
    "def singleNumber(nums):\n",
    "    int_nums = {}\n",
    "    for x in nums:\n",
    "        if x not in int_nums.keys():\n",
    "            int_nums[x] = 1\n",
    "        else:\n",
    "            int_nums[x] += 1\n",
    "    for x in int_nums.keys():\n",
    "        if int_nums[x] == 1:\n",
    "            return x"
   ]
  },
  {
   "cell_type": "code",
   "execution_count": 33,
   "metadata": {},
   "outputs": [
    {
     "name": "stdout",
     "output_type": "stream",
     "text": [
      "4\n"
     ]
    }
   ],
   "source": [
    "print(singleNumber([1,2,1,4,2]))"
   ]
  },
  {
   "cell_type": "code",
   "execution_count": 38,
   "metadata": {},
   "outputs": [
    {
     "data": {
      "text/plain": [
       "1"
      ]
     },
     "execution_count": 38,
     "metadata": {},
     "output_type": "execute_result"
    }
   ],
   "source": [
    "2^3^1^2^3"
   ]
  },
  {
   "cell_type": "markdown",
   "metadata": {},
   "source": [
    "## Fizz Buzz"
   ]
  },
  {
   "cell_type": "code",
   "execution_count": 39,
   "metadata": {},
   "outputs": [],
   "source": [
    "def fizzBuzz(n):\n",
    "    first_c = \"FizzBuzz\"\n",
    "    second_c = \"Fizz\"\n",
    "    third_c = \"Buzz\"\n",
    "    \n",
    "    arr = []\n",
    "    for x in range(1, n+1):\n",
    "        if x % 15 == 0:\n",
    "            arr.append(first_c)\n",
    "        elif x % 3 == 0:\n",
    "            arr.append(second_c)\n",
    "        elif x % 5 == 0:\n",
    "            arr.append(third_c)\n",
    "        else:\n",
    "            arr.append(str(x))\n",
    "    \n",
    "    return arr"
   ]
  },
  {
   "cell_type": "code",
   "execution_count": 43,
   "metadata": {},
   "outputs": [],
   "source": [
    "def fizzBuzz(n):\n",
    "    first_c = \"FizzBuzz\"\n",
    "    second_c = \"Fizz\"\n",
    "    third_c = \"Buzz\"\n",
    "    \n",
    "    arr = []\n",
    "    for x in range(1, n+1):\n",
    "        arr.append('')\n",
    "        if x % 3 == 0:\n",
    "            arr[-1] += second_c\n",
    "        if x % 5 == 0:\n",
    "            arr[-1] += third_c\n",
    "        if not arr[-1]:\n",
    "            arr[-1] += str(x)\n",
    "    \n",
    "    return arr"
   ]
  },
  {
   "cell_type": "code",
   "execution_count": 44,
   "metadata": {},
   "outputs": [
    {
     "name": "stdout",
     "output_type": "stream",
     "text": [
      "['1', '2', 'Fizz']\n",
      "['1', '2', 'Fizz', '4', 'Buzz']\n"
     ]
    }
   ],
   "source": [
    "print(fizzBuzz(3))\n",
    "print(fizzBuzz(5))"
   ]
  },
  {
   "cell_type": "markdown",
   "metadata": {},
   "source": [
    "## Majority Element"
   ]
  },
  {
   "cell_type": "code",
   "execution_count": 25,
   "metadata": {},
   "outputs": [],
   "source": [
    "def majorityElement(nums):\n",
    "    \n",
    "    n = len(nums)//2 + 1\n",
    "    \n",
    "    d = {}\n",
    "    for x in nums:\n",
    "        if x not in d.keys():\n",
    "            d[x] = 1\n",
    "        else:\n",
    "            d[x] += 1\n",
    "            if d[x] >= n:\n",
    "                return x"
   ]
  },
  {
   "cell_type": "code",
   "execution_count": 6,
   "metadata": {},
   "outputs": [],
   "source": [
    "def majorityElement(nums):\n",
    "    \n",
    "    count = 0\n",
    "    candidate = None\n",
    "    for x in nums:\n",
    "        if count == 0:\n",
    "            candidate = x\n",
    "        count += (1 if x == candidate else -1)\n",
    "    \n",
    "    return candidate\n",
    "    "
   ]
  },
  {
   "cell_type": "code",
   "execution_count": 7,
   "metadata": {},
   "outputs": [
    {
     "name": "stdout",
     "output_type": "stream",
     "text": [
      "2\n",
      "3\n"
     ]
    }
   ],
   "source": [
    "print(majorityElement([2,2,1,1,1,2,2]))\n",
    "print(majorityElement([3,3,4]))"
   ]
  },
  {
   "cell_type": "markdown",
   "metadata": {},
   "source": [
    "## Valid Anagram"
   ]
  },
  {
   "cell_type": "code",
   "execution_count": 37,
   "metadata": {},
   "outputs": [],
   "source": [
    "def isAnagram(s,t):\n",
    "    \n",
    "    if len(s) != len(t):\n",
    "        return False\n",
    "    \n",
    "    ds = {}\n",
    "    dt = {}\n",
    "    for i in range(len(s)):\n",
    "        if s[i] in ds.keys(): ds[s[i]] += 1\n",
    "        else: ds[s[i]] = 1\n",
    "        \n",
    "        if t[i] in dt.keys(): dt[t[i]] += 1\n",
    "        else : dt[t[i]] = 1\n",
    "    \n",
    "    for x in ds.keys():\n",
    "        if x not in dt.keys() or ds[x] != dt[x]:\n",
    "            return False\n",
    "    \n",
    "    return True"
   ]
  },
  {
   "cell_type": "code",
   "execution_count": 35,
   "metadata": {},
   "outputs": [],
   "source": [
    "def isAnagram(s,t):\n",
    "    return sorted(s) == sorted(t)"
   ]
  },
  {
   "cell_type": "code",
   "execution_count": 38,
   "metadata": {},
   "outputs": [
    {
     "name": "stdout",
     "output_type": "stream",
     "text": [
      "True\n",
      "False\n",
      "False\n",
      "False\n"
     ]
    }
   ],
   "source": [
    "print(isAnagram(\"anagram\", \"nagaram\"))\n",
    "print(isAnagram(\"rat\", \"cat\"))\n",
    "print(isAnagram(\"ab\", \"a\"))\n",
    "print(isAnagram(\"aacc\", \"ccac\"))"
   ]
  },
  {
   "cell_type": "markdown",
   "metadata": {},
   "source": [
    "## Best Time to Buy and Sell Stock II"
   ]
  },
  {
   "cell_type": "code",
   "execution_count": 53,
   "metadata": {},
   "outputs": [],
   "source": [
    "def maxProfit(prices):\n",
    "    \n",
    "    \n",
    "    deal = False\n",
    "    cp = None\n",
    "    profit = 0\n",
    "    \n",
    "    \n",
    "    for i in range(len(prices)-1):\n",
    "        if not deal and prices[i] < prices[i+1]:\n",
    "            cp = prices[i]\n",
    "            deal = True\n",
    "        elif deal and prices[i] > prices[i+1]:\n",
    "            profit += prices[i] - cp\n",
    "            cp = None\n",
    "            deal = False\n",
    "            \n",
    "    if deal and cp < prices[-1]:\n",
    "        profit += prices[-1] - cp\n",
    "    \n",
    "    \n",
    "    return profit"
   ]
  },
  {
   "cell_type": "code",
   "execution_count": 56,
   "metadata": {},
   "outputs": [],
   "source": [
    "def maxProfit(prices):\n",
    "    \n",
    "    profit = 0\n",
    "    \n",
    "    for i in range(len(prices)-1):\n",
    "        if prices[i+1] > prices[i]:\n",
    "            profit += prices[i+1] - prices[i]\n",
    "    \n",
    "    return profit"
   ]
  },
  {
   "cell_type": "code",
   "execution_count": 57,
   "metadata": {},
   "outputs": [
    {
     "name": "stdout",
     "output_type": "stream",
     "text": [
      "7\n",
      "4\n",
      "0\n",
      "2\n"
     ]
    }
   ],
   "source": [
    "print(maxProfit([7,1,5,3,6,4]))\n",
    "print(maxProfit([1,2,3,4,5]))\n",
    "print(maxProfit([7,6,4,3,1]))\n",
    "print(maxProfit([2,1,2,0,1]))"
   ]
  },
  {
   "cell_type": "markdown",
   "metadata": {},
   "source": [
    "## Move Zeroes"
   ]
  },
  {
   "cell_type": "code",
   "execution_count": 45,
   "metadata": {},
   "outputs": [],
   "source": [
    "def moveZeroes(nums):\n",
    "    \n",
    "    j = 0\n",
    "    for i in range(len(nums)):\n",
    "        if nums[j] == 0:\n",
    "            x = nums.pop(j)\n",
    "            nums.append(x)\n",
    "        else:\n",
    "            j += 1\n",
    "    \n",
    "    return nums"
   ]
  },
  {
   "cell_type": "code",
   "execution_count": 16,
   "metadata": {},
   "outputs": [],
   "source": [
    "def moveZeroes(nums):\n",
    "    \n",
    "    j = 0\n",
    "    for i in range(len(nums)):\n",
    "        if nums[i] != 0:\n",
    "            nums[j], nums[i] = nums[i], nums[j]\n",
    "            j += 1\n",
    "    \n",
    "    return nums"
   ]
  },
  {
   "cell_type": "code",
   "execution_count": 46,
   "metadata": {},
   "outputs": [
    {
     "name": "stdout",
     "output_type": "stream",
     "text": [
      "[1, 3, 12, 0, 0, 0]\n",
      "[0]\n"
     ]
    }
   ],
   "source": [
    "print(moveZeroes([0,0,1,0,3,12]))\n",
    "print(moveZeroes([0]))"
   ]
  },
  {
   "cell_type": "markdown",
   "metadata": {},
   "source": [
    "## Contains Duplicate"
   ]
  },
  {
   "cell_type": "code",
   "execution_count": 27,
   "metadata": {},
   "outputs": [],
   "source": [
    "def containsDuplicate(nums):\n",
    "    a = {}\n",
    "    for x in nums:\n",
    "        if x in a.keys():\n",
    "            return True\n",
    "        else:\n",
    "            a[x] = 1\n",
    "    \n",
    "    return False"
   ]
  },
  {
   "cell_type": "code",
   "execution_count": 28,
   "metadata": {},
   "outputs": [
    {
     "name": "stdout",
     "output_type": "stream",
     "text": [
      "True\n",
      "False\n"
     ]
    }
   ],
   "source": [
    "print(containsDuplicate([1,2,3,1]))\n",
    "print(containsDuplicate([1,2,3,4]))"
   ]
  },
  {
   "cell_type": "markdown",
   "metadata": {},
   "source": [
    "## Merge Two Sorted Lists"
   ]
  },
  {
   "cell_type": "code",
   "execution_count": 8,
   "metadata": {},
   "outputs": [],
   "source": [
    "def mergeTwoLists(l1, l2):\n",
    "    l3 = []\n",
    "    i = j = 0\n",
    "    while i < len(l1) and j < len(l2):\n",
    "        if l1[i] == l2[j]:\n",
    "            l3.append(l1[i])\n",
    "            i += 1\n",
    "            j += 1\n",
    "        elif l1[i] < l2[j]:\n",
    "            l3.append(l1[i])\n",
    "            i += 1\n",
    "        elif l1[i] > l2[j]:\n",
    "            l3.append(l2[j])\n",
    "            j += 1\n",
    "            \n",
    "    if i < len(l1):\n",
    "        z = i\n",
    "        l = l1\n",
    "    else:\n",
    "        z = j\n",
    "        l = l2\n",
    "    while z < len(l):\n",
    "        l3.append(l[z])\n",
    "        z += 1\n",
    "\n",
    "    return l3    "
   ]
  },
  {
   "cell_type": "code",
   "execution_count": 9,
   "metadata": {},
   "outputs": [
    {
     "name": "stdout",
     "output_type": "stream",
     "text": [
      "[1, 2, 3, 4, 5, 6]\n",
      "[1, 2, 3, 4, 5, 6]\n"
     ]
    }
   ],
   "source": [
    "print(mergeTwoLists([1,2,4,5,6], [1,3,4]))\n",
    "print(mergeTwoLists([1,3,4], [1,2,4,5,6]))"
   ]
  },
  {
   "cell_type": "markdown",
   "metadata": {},
   "source": [
    "## First Unique Character in a String"
   ]
  },
  {
   "cell_type": "code",
   "execution_count": 5,
   "metadata": {},
   "outputs": [],
   "source": [
    "def firstUniqChar(s: str) -> int:\n",
    "    d = {}\n",
    "    for i in range(len(s)):\n",
    "        if s[i] not in d.keys():\n",
    "            d[s[i]] = [i, 1]\n",
    "        else:\n",
    "            d[s[i]][-1] += 1\n",
    "    \n",
    "    for x in d.keys():\n",
    "        if d[x][-1] == 1:\n",
    "            return d[x][0]\n",
    "    \n",
    "    return(-1)"
   ]
  },
  {
   "cell_type": "code",
   "execution_count": 1,
   "metadata": {},
   "outputs": [],
   "source": [
    "def firstUniqChar(s: str) -> int:\n",
    "    d = {}\n",
    "    idx = None\n",
    "    for i in range(len(s)):\n",
    "        if s[i] not in d.keys():\n",
    "            d[s[i]] = [i, 1]\n",
    "            idx = i\n",
    "        else:\n",
    "            _ = d.pop(s[i])\n",
    "    \n",
    "    if d:\n",
    "        print(d)\n",
    "        return(d.popitem()[-1])\n",
    "    else:\n",
    "        return -1"
   ]
  },
  {
   "cell_type": "code",
   "execution_count": 2,
   "metadata": {},
   "outputs": [
    {
     "name": "stdout",
     "output_type": "stream",
     "text": [
      "{'l': [0, 1], 't': [3, 1], 'c': [4, 1], 'o': [5, 1], 'd': [6, 1], 'e': [7, 1]}\n",
      "[7, 1]\n",
      "{'v': [2, 1], 't': [7, 1], 'c': [8, 1], 'd': [10, 1]}\n",
      "[10, 1]\n",
      "-1\n"
     ]
    }
   ],
   "source": [
    "print(firstUniqChar(\"leetcode\"))\n",
    "print(firstUniqChar(\"loveleetcode\"))\n",
    "print(firstUniqChar(\"aabb\"))"
   ]
  },
  {
   "cell_type": "markdown",
   "metadata": {},
   "source": [
    "## Missing Number"
   ]
  },
  {
   "cell_type": "code",
   "execution_count": 35,
   "metadata": {},
   "outputs": [],
   "source": [
    "from typing import List\n",
    "\n",
    "def missingNumber(nums: List[int]) -> int:\n",
    "    \n",
    "    n = len(nums)\n",
    "    e_s = n*(n+1)/2\n",
    "    r_s = sum(nums)\n",
    "    return(int(e_s-r_s))"
   ]
  },
  {
   "cell_type": "code",
   "execution_count": 36,
   "metadata": {},
   "outputs": [
    {
     "name": "stdout",
     "output_type": "stream",
     "text": [
      "2\n",
      "2\n",
      "8\n",
      "1\n"
     ]
    }
   ],
   "source": [
    "print(missingNumber([3,0,1]))\n",
    "print(missingNumber([0,1]))\n",
    "print(missingNumber([9,6,4,2,3,5,7,0,1]))\n",
    "print(missingNumber([0]))"
   ]
  },
  {
   "cell_type": "code",
   "execution_count": 3,
   "metadata": {},
   "outputs": [
    {
     "name": "stdout",
     "output_type": "stream",
     "text": [
      "15.0\n",
      "15\n"
     ]
    }
   ],
   "source": [
    "n = 5\n",
    "e_s = n*(n+1)/2\n",
    "r_s = sum(list(range(n+1)))\n",
    "print(e_s)\n",
    "print(r_s)"
   ]
  },
  {
   "cell_type": "markdown",
   "metadata": {},
   "source": [
    "## Happy Number"
   ]
  },
  {
   "cell_type": "code",
   "execution_count": 33,
   "metadata": {},
   "outputs": [],
   "source": [
    "def isHappy(n: int) -> bool:\n",
    "    \n",
    "    n_set = set()\n",
    "    while n:\n",
    "        csum = 0\n",
    "        while n:\n",
    "            csum += (n%10)**2\n",
    "            n = n//10\n",
    "        n = csum\n",
    "        if n == 1:\n",
    "            return True\n",
    "        if n not in n_set:\n",
    "            n_set.add(n)\n",
    "        else:\n",
    "            return False"
   ]
  },
  {
   "cell_type": "code",
   "execution_count": 34,
   "metadata": {},
   "outputs": [
    {
     "name": "stdout",
     "output_type": "stream",
     "text": [
      "True\n",
      "False\n"
     ]
    }
   ],
   "source": [
    "print(isHappy(19))\n",
    "print(isHappy(2))"
   ]
  },
  {
   "cell_type": "markdown",
   "metadata": {},
   "source": [
    "## Climbing Stairs"
   ]
  },
  {
   "cell_type": "code",
   "execution_count": 6,
   "metadata": {},
   "outputs": [],
   "source": [
    "def climb_stairs(i, n):\n",
    "    if i > n:\n",
    "        return 0\n",
    "    if i == n:\n",
    "        return 1\n",
    "    return climb_stairs(i+1, n) + climb_stairs(i+2, n)\n",
    "\n",
    "def climbStairs(n: int) -> int:\n",
    "    return climb_stairs(0, n)"
   ]
  },
  {
   "cell_type": "code",
   "execution_count": 20,
   "metadata": {},
   "outputs": [],
   "source": [
    "def climbStairs(n: int) -> int:\n",
    "    \n",
    "    dp = [0]*n\n",
    "    if n == 1:\n",
    "        return 1\n",
    "    dp[0] = 1\n",
    "    dp[1] = 2\n",
    "    \n",
    "    for x in range(2, n):\n",
    "        dp[x] = dp[x-1] + dp[x-2]\n",
    "    return dp[n-1]\n",
    "    "
   ]
  },
  {
   "cell_type": "code",
   "execution_count": 22,
   "metadata": {},
   "outputs": [
    {
     "name": "stdout",
     "output_type": "stream",
     "text": [
      "2\n"
     ]
    }
   ],
   "source": [
    "print(climbStairs(2))"
   ]
  },
  {
   "cell_type": "markdown",
   "metadata": {},
   "source": [
    "## Pascal's Triangle"
   ]
  },
  {
   "cell_type": "code",
   "execution_count": 24,
   "metadata": {},
   "outputs": [],
   "source": [
    "from typing import List\n",
    "\n",
    "def generate(numRows: int) -> List[List[int]]:\n",
    "    \n",
    "    ans = []\n",
    "    for i in range(1, numRows+1):\n",
    "        row = [1]*i\n",
    "        if ans and len(ans[-1]) >= 2:\n",
    "            for j in range(1, i-1):\n",
    "                row[j] = ans[-1][j-1] + ans[-1][j]\n",
    "        ans.append(row) \n",
    "    \n",
    "    return ans\n",
    "    "
   ]
  },
  {
   "cell_type": "code",
   "execution_count": 26,
   "metadata": {},
   "outputs": [
    {
     "name": "stdout",
     "output_type": "stream",
     "text": [
      "[[1], [1, 1], [1, 2, 1], [1, 3, 3, 1], [1, 4, 6, 4, 1], [1, 5, 10, 10, 5, 1]]\n"
     ]
    }
   ],
   "source": [
    "print(generate(6))"
   ]
  },
  {
   "cell_type": "markdown",
   "metadata": {},
   "source": [
    "## Best Time to Buy and Sell Stock"
   ]
  },
  {
   "cell_type": "code",
   "execution_count": 34,
   "metadata": {},
   "outputs": [],
   "source": [
    "from typing import List\n",
    "\n",
    "def maxProfit(prices: List[int]) -> int:\n",
    "    \n",
    "    max_prof = 0\n",
    "    best_price = prices[0]\n",
    "    for x in prices[1:]:\n",
    "        if x < best_price:\n",
    "            best_price = x\n",
    "        else:\n",
    "            prof = x - best_price\n",
    "            if prof > max_prof:\n",
    "                max_prof = prof\n",
    "        \n",
    "    \n",
    "    \n",
    "    return max_prof"
   ]
  },
  {
   "cell_type": "code",
   "execution_count": 37,
   "metadata": {},
   "outputs": [
    {
     "name": "stdout",
     "output_type": "stream",
     "text": [
      "5\n",
      "6\n",
      "0\n"
     ]
    }
   ],
   "source": [
    "print(maxProfit([7,1,5,3,6,4]))\n",
    "print(maxProfit([7,3,9,1,4,4]))\n",
    "print(maxProfit([7,6,4,3,1]))"
   ]
  },
  {
   "cell_type": "markdown",
   "metadata": {},
   "source": [
    "## Valid Palindrome"
   ]
  },
  {
   "cell_type": "code",
   "execution_count": 14,
   "metadata": {},
   "outputs": [],
   "source": [
    "def isPalindrome(s: str) -> bool:\n",
    "    \n",
    "    ns = \"\"\n",
    "    for x in s:\n",
    "        if x.isalpha() or x.isnumeric():\n",
    "            ns += x.lower()\n",
    "    \n",
    "    \n",
    "    return ns == ns[::-1]"
   ]
  },
  {
   "cell_type": "code",
   "execution_count": 15,
   "metadata": {},
   "outputs": [
    {
     "name": "stdout",
     "output_type": "stream",
     "text": [
      "True\n",
      "False\n"
     ]
    }
   ],
   "source": [
    "print(isPalindrome(\"A man, a plan, a canal: Panama\"))\n",
    "print(isPalindrome(\"race a car\"))"
   ]
  },
  {
   "cell_type": "markdown",
   "metadata": {},
   "source": [
    "## Count Primes"
   ]
  },
  {
   "cell_type": "code",
   "execution_count": 32,
   "metadata": {},
   "outputs": [],
   "source": [
    "def countPrimes(n: int) -> int:\n",
    "    \n",
    "    primes = [True for x in range(n)]\n",
    "    \n",
    "    for i in range(2, int(n**0.5)+1):\n",
    "        if primes[i]:\n",
    "            j = i\n",
    "            while j*i < n:\n",
    "                primes[i*j] = False\n",
    "                j+=1\n",
    "    \n",
    "    print(primes)\n",
    "    return sum(primes[2:])"
   ]
  },
  {
   "cell_type": "code",
   "execution_count": 33,
   "metadata": {},
   "outputs": [
    {
     "name": "stdout",
     "output_type": "stream",
     "text": [
      "[True, True, True, True, False, True, False, True, False, False]\n",
      "4\n",
      "[]\n",
      "0\n",
      "[True]\n",
      "0\n"
     ]
    }
   ],
   "source": [
    "print(countPrimes(10))\n",
    "print(countPrimes(0))\n",
    "print(countPrimes(1))"
   ]
  },
  {
   "cell_type": "markdown",
   "metadata": {},
   "source": [
    "## Excel Sheet Column Number"
   ]
  },
  {
   "cell_type": "code",
   "execution_count": 14,
   "metadata": {},
   "outputs": [],
   "source": [
    "def titleToNumber(s: str) -> int:\n",
    "    \n",
    "    start_id = ord('A') -1\n",
    "    i = 1\n",
    "    num = 0\n",
    "    for x in s[::-1]:\n",
    "        num += (ord(x)-start_id)*i\n",
    "        i *= 26 \n",
    "    \n",
    "    return num"
   ]
  },
  {
   "cell_type": "code",
   "execution_count": 15,
   "metadata": {},
   "outputs": [
    {
     "name": "stdout",
     "output_type": "stream",
     "text": [
      "1\n",
      "28\n"
     ]
    }
   ],
   "source": [
    "print(titleToNumber('A'))\n",
    "print(titleToNumber('AB'))\n",
    "print(titleToNumber(\"ZY\"))\n",
    "print(titleToNumber(\"AZY\"))\n",
    "print(titleToNumber(\"FXSHRXW\"))"
   ]
  },
  {
   "cell_type": "markdown",
   "metadata": {},
   "source": [
    "## Merge Sorted Array"
   ]
  },
  {
   "cell_type": "code",
   "execution_count": 10,
   "metadata": {},
   "outputs": [],
   "source": [
    "from typing import List\n",
    "\n",
    "def merge(nums1: List[int], m: int, nums2: List[int], n: int) -> None:\n",
    "    \n",
    "    p = n+m-1\n",
    "    m = m-1\n",
    "    n = n-1\n",
    "    \n",
    "    while m >=0 and n >=0:\n",
    "        if nums1[m] > nums2[n]:\n",
    "            nums1[p] = nums1[m]\n",
    "            m -= 1\n",
    "        else:\n",
    "            nums1[p] = nums2[n]\n",
    "            n -= 1\n",
    "        p -= 1\n",
    "    \n",
    "    while n >=0:\n",
    "        nums1[p] = nums2[n]\n",
    "        n-=1\n",
    "        p-=1\n",
    "    \n",
    "    \n",
    "    return nums1"
   ]
  },
  {
   "cell_type": "code",
   "execution_count": 12,
   "metadata": {},
   "outputs": [
    {
     "name": "stdout",
     "output_type": "stream",
     "text": [
      "[1, 2, 2, 3, 5, 6]\n",
      "[1]\n",
      "[2]\n"
     ]
    }
   ],
   "source": [
    "print(merge([1,2,3,0,0,0],3,[2,5,6],3))\n",
    "print(merge([0],0,[1],1))\n",
    "print(merge([2],1,[0],0))"
   ]
  },
  {
   "cell_type": "markdown",
   "metadata": {},
   "source": [
    "## Search Insert Position"
   ]
  },
  {
   "cell_type": "code",
   "execution_count": 55,
   "metadata": {},
   "outputs": [],
   "source": [
    "def searchInsert(nums, target):\n",
    "    ans = None\n",
    "    l=0\n",
    "    r=len(nums)\n",
    "    while not ans:\n",
    "        m = (l+r) // 2\n",
    "        if nums[m] == target:\n",
    "            ans = m\n",
    "        elif r-l == 1:\n",
    "            if target < nums[l]:\n",
    "                ans = 0\n",
    "            else:\n",
    "                ans = l+1\n",
    "        elif nums[m] < target:\n",
    "            l = m\n",
    "        elif nums[m] > target:\n",
    "            r = m\n",
    "        if ans == 0:\n",
    "            return 0    \n",
    "    return ans"
   ]
  },
  {
   "cell_type": "code",
   "execution_count": 56,
   "metadata": {},
   "outputs": [
    {
     "name": "stdout",
     "output_type": "stream",
     "text": [
      "2\n",
      "4\n",
      "0\n",
      "0\n"
     ]
    }
   ],
   "source": [
    "print(searchInsert([1,3,5,6], 5))\n",
    "print(searchInsert([1,3,5,6], 7))\n",
    "print(searchInsert([1,3,5,6], 0))\n",
    "print(searchInsert([1], 1))"
   ]
  },
  {
   "cell_type": "code",
   "execution_count": 44,
   "metadata": {},
   "outputs": [
    {
     "data": {
      "text/plain": [
       "0"
      ]
     },
     "execution_count": 44,
     "metadata": {},
     "output_type": "execute_result"
    }
   ],
   "source": [
    "1//2"
   ]
  },
  {
   "cell_type": "markdown",
   "metadata": {},
   "source": [
    "## Counting Bits"
   ]
  },
  {
   "cell_type": "code",
   "execution_count": 9,
   "metadata": {},
   "outputs": [],
   "source": [
    "def countBits(n):\n",
    "    def binary_rep(n):\n",
    "        l = []\n",
    "        while n:\n",
    "            m = n // 2\n",
    "            l.append(n-(m*2))\n",
    "            n = m\n",
    "        return(l[::-1])\n",
    "        \n",
    "    \n",
    "    ans = []\n",
    "    for i in range(n+1):\n",
    "        ans.append(sum(binary_rep(i)))\n",
    "    \n",
    "    return ans"
   ]
  },
  {
   "cell_type": "code",
   "execution_count": 14,
   "metadata": {},
   "outputs": [
    {
     "data": {
      "text/plain": [
       "[0, 1, 1, 2]"
      ]
     },
     "execution_count": 14,
     "metadata": {},
     "output_type": "execute_result"
    }
   ],
   "source": [
    "countBits(3)"
   ]
  },
  {
   "cell_type": "markdown",
   "metadata": {},
   "source": [
    "## Boats to Save People"
   ]
  },
  {
   "cell_type": "code",
   "execution_count": 46,
   "metadata": {},
   "outputs": [],
   "source": [
    "from typing import List\n",
    "\n",
    "def numRescueBoats(people: List[int], limit: int) -> int:\n",
    "    \n",
    "    people.sort()\n",
    "    i = 0\n",
    "    j = len(people) - 1\n",
    "    boats = 0\n",
    "    \n",
    "    while i <= j:\n",
    "        boats += 1\n",
    "        if people[j] + people[i] <= limit:\n",
    "            i += 1\n",
    "        j -= 1\n",
    "    return boats\n",
    "    \n",
    "    \n",
    "#     l = sorted(people)\n",
    "#     i = 0\n",
    "#     j = len(l)-1\n",
    "#     cur_w = 0\n",
    "#     boats = []\n",
    "#     while i <= j:\n",
    "#         cur_w = l[j]\n",
    "#         if (cur_w + l[i]) <= limit and i != j:\n",
    "#             cur_w += l[i]\n",
    "#             i += 1\n",
    "#         boats.append(cur_w)\n",
    "#         cur_w = 0\n",
    "#         j -= 1\n",
    "#     print(boats)\n",
    "    \n",
    "#     return len(boats)"
   ]
  },
  {
   "cell_type": "code",
   "execution_count": 47,
   "metadata": {},
   "outputs": [
    {
     "name": "stdout",
     "output_type": "stream",
     "text": [
      "1\n",
      "3\n",
      "3\n"
     ]
    }
   ],
   "source": [
    "print(numRescueBoats([1,2], 3))\n",
    "print(numRescueBoats([3,2,2,1], 3))\n",
    "print(numRescueBoats([3,2,2,1,1], 3))"
   ]
  },
  {
   "cell_type": "markdown",
   "metadata": {},
   "source": [
    "## Search in Rotated Sorted Array"
   ]
  },
  {
   "cell_type": "code",
   "execution_count": 66,
   "metadata": {},
   "outputs": [],
   "source": [
    "from typing import List\n",
    "\n",
    "def search(nums: List[int], target: int) -> bool:\n",
    "    \n",
    "    i = 0\n",
    "    j = len(nums)-1\n",
    "    pivot = 0\n",
    "    while i <= j and len(nums) > 1:\n",
    "        m = (i+j)//2\n",
    "        if nums[m-1] > nums[m]:\n",
    "            pivot = m\n",
    "            break\n",
    "        elif nums[m] > nums[-1]:\n",
    "            i = m+1\n",
    "        elif nums[m] < nums[-1]:\n",
    "            j = m-1\n",
    "    \n",
    "    \n",
    "    def binary_search(l, t):\n",
    "        if len(l) == 1:\n",
    "            if t == l[0]:\n",
    "                return 0\n",
    "            else:\n",
    "                return -1\n",
    "        i = 0\n",
    "        j = len(l) - 1\n",
    "        while i <= j:\n",
    "            m = (i+j)//2\n",
    "            if l[m] == t:\n",
    "                return m\n",
    "            elif l[m] < t:\n",
    "                i = m+1\n",
    "            else:\n",
    "                j = m-1\n",
    "        return -1\n",
    "    \n",
    "    nums1 = nums[:pivot]\n",
    "    nums2 = nums[pivot:]\n",
    "    \n",
    "    ans1 = binary_search(nums1, target)\n",
    "    if ans1 != -1:\n",
    "        return ans1\n",
    "    \n",
    "    ans2 = binary_search(nums2, target)\n",
    "    if ans2 != -1:\n",
    "        ans2 += pivot\n",
    "    \n",
    "        \n",
    "    return ans2"
   ]
  },
  {
   "cell_type": "code",
   "execution_count": 81,
   "metadata": {},
   "outputs": [],
   "source": [
    "from typing import List\n",
    "\n",
    "def search(nums: List[int], target: int) -> bool:\n",
    "    \n",
    "    left = 0\n",
    "    right = len(nums) -1\n",
    "    while left <= right:\n",
    "        m = (left+right)//2\n",
    "        if nums[m] == target:\n",
    "            return m\n",
    "        elif nums[left] <= nums[m]: \n",
    "            if nums[m] >= target and nums[left] <= target:\n",
    "                right = m-1\n",
    "            else:\n",
    "                left = m+1\n",
    "        else:\n",
    "            if nums[m] <= target and nums[right] >= target:\n",
    "                left = m+1\n",
    "            else:\n",
    "                right = m-1\n",
    "            \n",
    "    return -1"
   ]
  },
  {
   "cell_type": "code",
   "execution_count": 82,
   "metadata": {},
   "outputs": [
    {
     "name": "stdout",
     "output_type": "stream",
     "text": [
      "4\n",
      "0\n",
      "0\n"
     ]
    }
   ],
   "source": [
    "print(search([4,5,6,7,0,1,2], 0))\n",
    "print(search([1,2], 1))\n",
    "print(search([1], 1))\n",
    "#search([1,2,3], 4)"
   ]
  },
  {
   "cell_type": "markdown",
   "metadata": {},
   "source": [
    "## Longest Substring Without Repeating Characters"
   ]
  },
  {
   "cell_type": "code",
   "execution_count": 20,
   "metadata": {},
   "outputs": [],
   "source": [
    "def lengthOfLongestSubstring(s: str) -> int:\n",
    "    \n",
    "    ss = \"\"\n",
    "    ssd = {}\n",
    "    left = 0\n",
    "    ls = 0\n",
    "    for i, char in enumerate(s):\n",
    "        if char not in ssd or ssd[char] < left:\n",
    "            ssd[char] = i\n",
    "            if i+1 - left > ls:\n",
    "                ls = i+1 - left\n",
    "        else:\n",
    "            left = ssd[char]\n",
    "            ssd[char] = i\n",
    "                  \n",
    "    return ls"
   ]
  },
  {
   "cell_type": "code",
   "execution_count": 21,
   "metadata": {},
   "outputs": [
    {
     "name": "stdout",
     "output_type": "stream",
     "text": [
      "3\n",
      "1\n",
      "4\n",
      "1\n",
      "3\n",
      "6\n",
      "7\n"
     ]
    }
   ],
   "source": [
    "print(lengthOfLongestSubstring(\"abcabcbb\"))\n",
    "print(lengthOfLongestSubstring(\"bbbbb\"))\n",
    "print(lengthOfLongestSubstring(\"pwwkew\"))\n",
    "print(lengthOfLongestSubstring(\" \"))\n",
    "print(lengthOfLongestSubstring(\"abc\"))\n",
    "print(lengthOfLongestSubstring(\"tmmzuxt\"))\n",
    "print(lengthOfLongestSubstring(\"bbtablud\"))"
   ]
  },
  {
   "cell_type": "markdown",
   "metadata": {},
   "source": [
    "## Longest Palindromic Substring"
   ]
  },
  {
   "cell_type": "code",
   "execution_count": 123,
   "metadata": {},
   "outputs": [],
   "source": [
    "def longestPalindrome(s: str) -> str:\n",
    "    \n",
    "    def isPalidrome(ss):\n",
    "        for i in range(len(ss)//2):\n",
    "            if ss[i] != ss[-i-1]:\n",
    "                return False\n",
    "        return True\n",
    "    \n",
    "    if len(s) < 2:\n",
    "        return s\n",
    "    \n",
    "    lp = s[0]\n",
    "    for i in range(len(s)):\n",
    "        ss = s[i]\n",
    "        for j in range(i+1,len(s)):\n",
    "            ss += s[j]\n",
    "            if isPalidrome(ss):\n",
    "                if len(ss) > len(lp):\n",
    "                    lp = ss\n",
    "            elif len(ss) > len(s[i:]):\n",
    "                break\n",
    "        if len(lp) > len(s[i:]):\n",
    "            break\n",
    "            \n",
    "    return lp"
   ]
  },
  {
   "cell_type": "code",
   "execution_count": 124,
   "metadata": {},
   "outputs": [
    {
     "name": "stdout",
     "output_type": "stream",
     "text": [
      "bab\n",
      "abba\n",
      "bb\n",
      "d\n",
      "\n",
      "a\n"
     ]
    }
   ],
   "source": [
    "print(longestPalindrome(\"babad\"))\n",
    "print(longestPalindrome(\"abba\"))\n",
    "print(longestPalindrome(\"cbbd\"))\n",
    "print(longestPalindrome(\"d\"))\n",
    "print(longestPalindrome(\"\"))\n",
    "print(longestPalindrome(\"ac\"))"
   ]
  },
  {
   "cell_type": "code",
   "execution_count": 22,
   "metadata": {},
   "outputs": [],
   "source": [
    "def longestPalindrome(s: str) -> str:\n",
    "    \n",
    "    lp = \"\"\n",
    "    for i in range(len(s)):\n",
    "        # odd case:\n",
    "        l, r = i, i\n",
    "        while l>=0 and r < len(s) and s[l] == s[r]:\n",
    "            if r-l+1 > len(lp):\n",
    "                lp = s[l:r+1]\n",
    "            l -= 1\n",
    "            r += 1\n",
    "        \n",
    "        # even case:\n",
    "        l, r = i, i+1\n",
    "        while l >= 0 and r < len(s) and s[l] == s[r]:\n",
    "            if r-l+1 > len(lp):\n",
    "                lp = s[l:r+1]\n",
    "            l -= 1\n",
    "            r += 1\n",
    "            \n",
    "    return lp"
   ]
  },
  {
   "cell_type": "code",
   "execution_count": 23,
   "metadata": {},
   "outputs": [
    {
     "name": "stdout",
     "output_type": "stream",
     "text": [
      "bab\n",
      "abba\n",
      "bb\n",
      "d\n",
      "\n",
      "a\n",
      "aca\n"
     ]
    }
   ],
   "source": [
    "print(longestPalindrome(\"babad\"))\n",
    "print(longestPalindrome(\"abba\"))\n",
    "print(longestPalindrome(\"cbbd\"))\n",
    "print(longestPalindrome(\"d\"))\n",
    "print(longestPalindrome(\"\"))\n",
    "print(longestPalindrome(\"ac\"))\n",
    "print(longestPalindrome(\"aacabdkacaa\"))"
   ]
  },
  {
   "cell_type": "code",
   "execution_count": 5,
   "metadata": {},
   "outputs": [],
   "source": [
    "s = 'abc'"
   ]
  },
  {
   "cell_type": "code",
   "execution_count": 6,
   "metadata": {},
   "outputs": [
    {
     "data": {
      "text/plain": [
       "'ab'"
      ]
     },
     "execution_count": 6,
     "metadata": {},
     "output_type": "execute_result"
    }
   ],
   "source": [
    "s[0:2]"
   ]
  },
  {
   "cell_type": "markdown",
   "metadata": {},
   "source": [
    "## Container With Most Water"
   ]
  },
  {
   "cell_type": "code",
   "execution_count": 24,
   "metadata": {},
   "outputs": [],
   "source": [
    "# brute force\n",
    "def maxArea(height) -> int:\n",
    "    \n",
    "    mw = 0\n",
    "    \n",
    "    for i in range(len(height)):\n",
    "        for j in range(i+1, len(height)):\n",
    "            water = min(height[i], height[j]) * (j - i)\n",
    "            if water > mw:\n",
    "                mw = water\n",
    "    \n",
    "    return mw"
   ]
  },
  {
   "cell_type": "code",
   "execution_count": 14,
   "metadata": {},
   "outputs": [],
   "source": [
    "def maxArea(height) -> int:\n",
    "    \n",
    "    mw = 0\n",
    "    l = 0\n",
    "    r = len(height)-1\n",
    "    \n",
    "    while l < r:\n",
    "        mw = max(mw, min(height[l], height[r])*(r-l))\n",
    "        if height[l] < height[r]:\n",
    "            l += 1\n",
    "        else:\n",
    "            r -= 1\n",
    "    \n",
    "    return mw"
   ]
  },
  {
   "cell_type": "code",
   "execution_count": 25,
   "metadata": {},
   "outputs": [
    {
     "name": "stdout",
     "output_type": "stream",
     "text": [
      "49\n",
      "1\n"
     ]
    }
   ],
   "source": [
    "print(maxArea([1,8,6,2,5,4,8,3,7]))\n",
    "print(maxArea([1,1]))"
   ]
  },
  {
   "cell_type": "markdown",
   "metadata": {},
   "source": [
    "## Letter Combinations of a Phone Number"
   ]
  },
  {
   "cell_type": "code",
   "execution_count": 55,
   "metadata": {},
   "outputs": [],
   "source": [
    "from typing import List\n",
    "\n",
    "def letterCombinations(digits: str) -> List[str]:\n",
    "    bd = {\n",
    "        '2': 'abc',\n",
    "        '3': 'def',\n",
    "        '4': 'ghi',\n",
    "        '5': 'jkl',\n",
    "        '6': 'mno',\n",
    "        '7': 'pqrs',\n",
    "        '8': 'tuv',\n",
    "        '9': 'wxyz',\n",
    "    }\n",
    "    res= []\n",
    "    def place(digit, res):\n",
    "        if not res:\n",
    "            res = list(bd[digit])\n",
    "        else:\n",
    "            new_res = []\n",
    "            for char in bd[digit]:\n",
    "                for r in res:\n",
    "                    new_res.append(r+char)\n",
    "            res = new_res\n",
    "        return res\n",
    "    \n",
    "    \n",
    "    for digit in digits:\n",
    "        res = place(digit, res)\n",
    "    \n",
    "    \n",
    "    return res"
   ]
  },
  {
   "cell_type": "code",
   "execution_count": 56,
   "metadata": {},
   "outputs": [
    {
     "name": "stdout",
     "output_type": "stream",
     "text": [
      "['a', 'b', 'c']\n",
      "['ada', 'bda', 'cda', 'aea', 'bea', 'cea', 'afa', 'bfa', 'cfa', 'adb', 'bdb', 'cdb', 'aeb', 'beb', 'ceb', 'afb', 'bfb', 'cfb', 'adc', 'bdc', 'cdc', 'aec', 'bec', 'cec', 'afc', 'bfc', 'cfc']\n"
     ]
    }
   ],
   "source": [
    "print(letterCombinations(\"232\"))"
   ]
  },
  {
   "cell_type": "markdown",
   "metadata": {},
   "source": [
    "## Coin Change"
   ]
  },
  {
   "cell_type": "code",
   "execution_count": 49,
   "metadata": {},
   "outputs": [],
   "source": [
    "from typing import List\n",
    "def coinChange(coins: List[int], amount: int) -> int:\n",
    "    \n",
    "    dp = [float('inf') for _ in range(amount+1)]\n",
    "    dp[0] = 0\n",
    "    \n",
    "    for i in range(len(dp)):\n",
    "        for c in coins:\n",
    "            if i-c >= 0:\n",
    "                dp[i] = min(dp[i], dp[i-c]+1)\n",
    "    return -1 if dp[-1] == float('inf') else dp[-1]\n",
    "    "
   ]
  },
  {
   "cell_type": "code",
   "execution_count": 50,
   "metadata": {},
   "outputs": [
    {
     "name": "stdout",
     "output_type": "stream",
     "text": [
      "3\n",
      "-1\n",
      "0\n",
      "1\n",
      "20\n"
     ]
    }
   ],
   "source": [
    "print(coinChange([1,2,5], 11))\n",
    "print(coinChange([2], 3))\n",
    "print(coinChange([1], 0))\n",
    "print(coinChange([1], 1))\n",
    "print(coinChange([1,2,5], 100))"
   ]
  },
  {
   "cell_type": "markdown",
   "metadata": {},
   "source": [
    "##  Intersection of Two Arrays II"
   ]
  },
  {
   "cell_type": "code",
   "execution_count": 16,
   "metadata": {},
   "outputs": [],
   "source": [
    "from typing import List\n",
    "def intersect(nums1: List[int], nums2: List[int]) -> List[int]:\n",
    "    \n",
    "    d1={}\n",
    "    for x in nums1:\n",
    "        if x not in d1:\n",
    "            d1[x] = 1\n",
    "        else:\n",
    "            d1[x] += 1 \n",
    "    \n",
    "    ans = []\n",
    "    for x in nums2:\n",
    "        if x in d1 and d1[x] >= 1:\n",
    "            ans.append(x)\n",
    "            d1[x] -= 1\n",
    "    \n",
    "    \n",
    "    return ans"
   ]
  },
  {
   "cell_type": "code",
   "execution_count": 17,
   "metadata": {},
   "outputs": [
    {
     "name": "stdout",
     "output_type": "stream",
     "text": [
      "[9, 4]\n"
     ]
    }
   ],
   "source": [
    "print(intersect([4,9,5], [9,4,9,8,4]))"
   ]
  },
  {
   "cell_type": "markdown",
   "metadata": {},
   "source": [
    "## Partition Labels"
   ]
  },
  {
   "cell_type": "code",
   "execution_count": 12,
   "metadata": {},
   "outputs": [],
   "source": [
    "from typing import List\n",
    "def partitionLabels(s: str) -> List[int]:\n",
    "    \n",
    "    d = {}\n",
    "    for i, l in enumerate(s):\n",
    "        d[l] = i\n",
    "    \n",
    "    p = []\n",
    "    r = 0\n",
    "    p_len = 0\n",
    "    for i, l in enumerate(s):\n",
    "        p_len += 1\n",
    "        if d[l] >= r:\n",
    "            r = d[l]\n",
    "        if i == r:\n",
    "            p.append(p_len)\n",
    "            p_len = 0\n",
    "    \n",
    "    return p"
   ]
  },
  {
   "cell_type": "code",
   "execution_count": 13,
   "metadata": {},
   "outputs": [
    {
     "name": "stdout",
     "output_type": "stream",
     "text": [
      "[9, 7, 8]\n",
      "[10]\n"
     ]
    }
   ],
   "source": [
    "print(partitionLabels(\"ababcbacadefegdehijhklij\"))\n",
    "print(partitionLabels(\"eccbbbbdec\"))"
   ]
  },
  {
   "cell_type": "markdown",
   "metadata": {},
   "source": [
    "## Daily Temperatures"
   ]
  },
  {
   "cell_type": "code",
   "execution_count": 12,
   "metadata": {},
   "outputs": [],
   "source": [
    "from typing import List\n",
    "\n",
    "def dailyTemperatures(temperatures: List[int]) -> List[int]:\n",
    "    t = temperatures\n",
    "    s = []\n",
    "    cur_t = None\n",
    "    ans = [0]*len(t)\n",
    "    \n",
    "    for i, cur_t in enumerate(t):\n",
    "        if not s:\n",
    "            s.append(i)\n",
    "        elif t[s[-1]] > cur_t:\n",
    "            s.append(i)\n",
    "        \n",
    "        else:\n",
    "            while s and t[s[-1]] < cur_t:\n",
    "                ans[s[-1]] = i - s[-1]\n",
    "                s.pop()\n",
    "            s.append(i)\n",
    "        \n",
    "    \n",
    "    return ans"
   ]
  },
  {
   "cell_type": "code",
   "execution_count": 13,
   "metadata": {},
   "outputs": [
    {
     "name": "stdout",
     "output_type": "stream",
     "text": [
      "[1, 1, 4, 2, 1, 1, 0, 0]\n",
      "[1, 1, 1, 0]\n"
     ]
    }
   ],
   "source": [
    "print(dailyTemperatures([73,74,75,71,69,72,76,73]))\n",
    "print(dailyTemperatures([30,40,50,60]))"
   ]
  },
  {
   "cell_type": "markdown",
   "metadata": {},
   "source": [
    "## Target Sum"
   ]
  },
  {
   "cell_type": "code",
   "execution_count": 109,
   "metadata": {},
   "outputs": [],
   "source": [
    "from typing import List\n",
    "def findTargetSumWays(nums: List[int], target: int) -> int:\n",
    "    \n",
    "    if not nums:\n",
    "        return 0\n",
    "    s = sum(nums)-nums[0]\n",
    "    \n",
    "    if nums[0] == 0:\n",
    "        active_hyps = {0: 2}\n",
    "    else:\n",
    "        active_hyps = {-nums[0]: 1,\n",
    "                       nums[0]: 1}\n",
    "    for i in range(1, len(nums)):\n",
    "        next_hyps = {}\n",
    "        s -= nums[i]\n",
    "        for hyp in active_hyps:\n",
    "            h1 = hyp - nums[i]\n",
    "            h2 = hyp + nums[i]\n",
    "            if target - abs(h1) <= s:    \n",
    "                if not h1 in next_hyps:\n",
    "                    next_hyps[h1] = active_hyps[hyp]\n",
    "                else:\n",
    "                    next_hyps[h1] += active_hyps[hyp]\n",
    "            if target - abs(h2) <= s:    \n",
    "                if not h2 in next_hyps:\n",
    "                    next_hyps[h2] = active_hyps[hyp]\n",
    "                else:\n",
    "                    next_hyps[h2] += active_hyps[hyp]\n",
    "        active_hyps = next_hyps\n",
    "    \n",
    "    ans = 0\n",
    "    if target in active_hyps:\n",
    "        ans = active_hyps[target]\n",
    "    \n",
    "    \n",
    "    return ans"
   ]
  },
  {
   "cell_type": "code",
   "execution_count": 110,
   "metadata": {},
   "outputs": [
    {
     "name": "stdout",
     "output_type": "stream",
     "text": [
      "256\n",
      "5\n",
      "1\n",
      "2\n",
      "128\n",
      "40\n",
      "5798\n"
     ]
    }
   ],
   "source": [
    "print(findTargetSumWays([0,0,0,0,0,0,0,0,1], 1))\n",
    "print(findTargetSumWays([1,1,1,1,1], 3))\n",
    "print(findTargetSumWays([1], 1))\n",
    "print(findTargetSumWays([1,2,1], 0))\n",
    "print(findTargetSumWays([0,0,0,0,0,0,0,1000], -1000))\n",
    "print(findTargetSumWays([9,7,0,3,9,8,6,5,7,6], 2))\n",
    "print(findTargetSumWays([11,19,14,50,47,35,18,32,8,2,31,45,6,25,49,23,25,33,24,33], 44))"
   ]
  },
  {
   "cell_type": "markdown",
   "metadata": {},
   "source": [
    "## Gas Station"
   ]
  },
  {
   "cell_type": "code",
   "execution_count": 48,
   "metadata": {},
   "outputs": [],
   "source": [
    "from typing import List\n",
    "def canCompleteCircuit(gas: List[int], cost: List[int]) -> int:\n",
    "    \n",
    "    tank = 0\n",
    "    prev_tank = 0\n",
    "    candidate = 0\n",
    "    for i in range(len(gas)):\n",
    "        tank += gas[i] - cost[i]\n",
    "        if tank < 0:\n",
    "            prev_tank += tank\n",
    "            tank = 0\n",
    "            candidate = i+1\n",
    "    if prev_tank + tank < 0 or i == len(gas):\n",
    "        return -1\n",
    "    else:\n",
    "        return candidate"
   ]
  },
  {
   "cell_type": "code",
   "execution_count": 49,
   "metadata": {},
   "outputs": [
    {
     "name": "stdout",
     "output_type": "stream",
     "text": [
      "3\n",
      "3\n",
      "-1\n"
     ]
    }
   ],
   "source": [
    "print(canCompleteCircuit([7,1,0,11,4], [5,9,1,2,5]))\n",
    "print(canCompleteCircuit([1,2,3,4,5], [3,4,5,1,2]))\n",
    "print(canCompleteCircuit([2,3,4], [3,4,3]))"
   ]
  },
  {
   "cell_type": "markdown",
   "metadata": {},
   "source": [
    "## Permutations"
   ]
  },
  {
   "cell_type": "code",
   "execution_count": 9,
   "metadata": {},
   "outputs": [],
   "source": [
    "from typing import List\n",
    "def permute(nums: List[int]) -> List[List[int]]:\n",
    "\n",
    "    results = []\n",
    "    \n",
    "    if len(nums) == 1:\n",
    "        return [nums[:]]\n",
    "    \n",
    "    for i in range(len(nums)):\n",
    "        n = nums.pop(0)\n",
    "        perms = permute(nums)\n",
    "        \n",
    "        for perm in perms:\n",
    "            perm.append(n)\n",
    "        results.extend(perms)\n",
    "        nums.append(n)\n",
    "    return results\n",
    "    "
   ]
  },
  {
   "cell_type": "code",
   "execution_count": 10,
   "metadata": {},
   "outputs": [
    {
     "name": "stdout",
     "output_type": "stream",
     "text": [
      "[[3, 2, 1], [2, 3, 1], [1, 3, 2], [3, 1, 2], [2, 1, 3], [1, 2, 3]]\n"
     ]
    }
   ],
   "source": [
    "print(permute([1,2,3]))"
   ]
  },
  {
   "cell_type": "markdown",
   "metadata": {},
   "source": [
    "## Word Break"
   ]
  },
  {
   "cell_type": "code",
   "execution_count": 106,
   "metadata": {},
   "outputs": [],
   "source": [
    "from typing import List\n",
    "def wordBreak(s: str, wordDict: List[str]) -> bool:\n",
    "    \n",
    "    ans = []\n",
    "    len_s = len(s)\n",
    "    dp = [(0, [])]\n",
    "    search = True\n",
    "    while dp:\n",
    "        n_dp = []\n",
    "        for d in dp: \n",
    "            cd = d[0]\n",
    "            for word in wordDict:\n",
    "                nd = cd+len(word)\n",
    "                if len(word) <= len_s-cd and s[cd:nd] == word:\n",
    "                    if nd == len_s:\n",
    "                        ans.append(d[-1] + [word])\n",
    "                    n_dp.append((nd, d[-1] + [word]))\n",
    "        dp = n_dp\n",
    "    \n",
    "    a = []\n",
    "    for x in ans:\n",
    "        a.append(' '.join(x))\n",
    "    #print(ans)\n",
    "    \n",
    "    \n",
    "    return a"
   ]
  },
  {
   "cell_type": "code",
   "execution_count": 107,
   "metadata": {},
   "outputs": [
    {
     "name": "stdout",
     "output_type": "stream",
     "text": [
      "['cat sand dog', 'cats and dog']\n",
      "['pine applepen apple', 'pineapple pen apple', 'pine apple pen apple']\n",
      "[]\n"
     ]
    }
   ],
   "source": [
    "print(wordBreak(\"catsanddog\", [\"cat\",\"cats\",\"and\",\"sand\",\"dog\"]))\n",
    "print(wordBreak(\"pineapplepenapple\", [\"apple\",\"pen\",\"applepen\",\"pine\",\"pineapple\"]))\n",
    "print(wordBreak(\"catsandog\", [\"cats\",\"dog\",\"sand\",\"and\",\"cat\"]))"
   ]
  },
  {
   "cell_type": "code",
   "execution_count": 13,
   "metadata": {},
   "outputs": [],
   "source": [
    "from typing import List\n",
    "def wordBreak(s: str, wordDict: List[str]) -> bool:\n",
    "    \n",
    "    dp = [False] * (len(s)+1)\n",
    "    dp[-1] = True\n",
    "    \n",
    "    for i in range(len(s)-1, -1, -1):\n",
    "        for word in wordDict:\n",
    "            if (len(s[i:]) >= len(word)) and s[i:i+len(word)] == word:\n",
    "                dp[i] = dp[i+len(word)]\n",
    "            if dp[i]:\n",
    "                break\n",
    "    \n",
    "    \n",
    "    return dp[0]"
   ]
  },
  {
   "cell_type": "code",
   "execution_count": 14,
   "metadata": {},
   "outputs": [
    {
     "name": "stdout",
     "output_type": "stream",
     "text": [
      "True\n",
      "True\n",
      "True\n",
      "True\n",
      "False\n",
      "False\n"
     ]
    }
   ],
   "source": [
    "print(wordBreak(\"abcd\", [\"a\",\"abc\",\"b\",\"cd\"]))\n",
    "print(wordBreak(\"ab\", [\"a\",\"b\"]))\n",
    "print(wordBreak(\"leetcode\", [\"leet\",\"code\"]))\n",
    "print(wordBreak(\"applepenapple\", [\"apple\",\"pen\"]))\n",
    "print(wordBreak(\"catsandog\", [\"cats\",\"dog\",\"sand\",\"and\",\"cat\"]))\n",
    "print(wordBreak(\"aaaaaaaaaaaaaaaaaaaaaaaaaaaaaaaaaaaaaaaaaaaaaaaaaaaaaaaaaaaaaaaaaaaaaaaaaaaaaaaaaaaaaaaaaaaaaaaaaaaaaaaaaaaaaaaaaaaaaaaaaaaaaaaaaaaaaaaaaaaaaaaaaaaaaab\", [\"a\",\"aa\",\"aaa\",\"aaaa\",\"aaaaa\",\"aaaaaa\",\"aaaaaaa\",\"aaaaaaaa\",\"aaaaaaaaa\",\"aaaaaaaaaa\"]))\n",
    "\n"
   ]
  },
  {
   "cell_type": "code",
   "execution_count": 32,
   "metadata": {},
   "outputs": [
    {
     "name": "stdout",
     "output_type": "stream",
     "text": [
      "ab\n",
      "de\n"
     ]
    }
   ],
   "source": [
    "l = 'abcde'\n",
    "print(l[:2])\n",
    "print(l[-2:])"
   ]
  },
  {
   "cell_type": "code",
   "execution_count": null,
   "metadata": {},
   "outputs": [],
   "source": []
  }
 ],
 "metadata": {
  "kernelspec": {
   "display_name": "Python 3",
   "language": "python",
   "name": "python3"
  },
  "language_info": {
   "codemirror_mode": {
    "name": "ipython",
    "version": 3
   },
   "file_extension": ".py",
   "mimetype": "text/x-python",
   "name": "python",
   "nbconvert_exporter": "python",
   "pygments_lexer": "ipython3",
   "version": "3.6.2"
  }
 },
 "nbformat": 4,
 "nbformat_minor": 2
}
